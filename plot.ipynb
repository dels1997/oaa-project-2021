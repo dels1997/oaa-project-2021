{
 "cells": [
  {
   "cell_type": "code",
   "execution_count": 34,
   "metadata": {},
   "outputs": [],
   "source": [
    "%matplotlib inline\n",
    "import numpy as np\n",
    "import matplotlib.pyplot as plt\n",
    "from math import *\n",
    "from sympy import *"
   ]
  },
  {
   "cell_type": "code",
   "execution_count": 35,
   "metadata": {},
   "outputs": [],
   "source": [
    "f1 = open(\"input.txt\",\"r\")\n",
    "f2 = open(\"output1.txt\", \"r\")\n",
    "f3 = open(\"output2.txt\", \"r\")"
   ]
  },
  {
   "cell_type": "code",
   "execution_count": 36,
   "metadata": {},
   "outputs": [],
   "source": [
    "x, z, y = [], [], []\n",
    "x1, z1, y1 = [], [], []\n",
    "x2, z2, y2 = [], [], []"
   ]
  },
  {
   "cell_type": "code",
   "execution_count": 37,
   "metadata": {},
   "outputs": [
    {
     "name": "stdout",
     "output_type": "stream",
     "text": [
      "[1.1, 1.1, 2.1, 2.3, 3.25, 3.0, 5.4, 6.1, 6.7, 6.0, 7.2, 5.9, 8.1, 4.0, 9.0, 4.0, 10.0, 0.1]\n"
     ]
    }
   ],
   "source": [
    "for n in f1.read().split('\\n'):\n",
    "    x.append(n)\n",
    "    \n",
    "num_point = x[0]\n",
    "\n",
    "for m in range(1,len(x)):\n",
    "    x1.append(x[m].split(','))\n",
    "for p in range(len(x1)):\n",
    "    P = x1[p]\n",
    "    for n in range(len(P)):\n",
    "        x2.append(float(P[n]))\n",
    "print(x2)"
   ]
  },
  {
   "cell_type": "code",
   "execution_count": 38,
   "metadata": {},
   "outputs": [
    {
     "name": "stdout",
     "output_type": "stream",
     "text": [
      "[['1.100000', ' 10.000000']]\n"
     ]
    }
   ],
   "source": [
    "for n in f2.read().split('\\n'):\n",
    "    y.append(n)\n",
    "    \n",
    "for m in range(len(y)-1):\n",
    "    y1.append(y[m].split(','))\n",
    "for p in range(len(y1)):\n",
    "    P = y1[p]\n",
    "    for n in range(len(P)):\n",
    "        y2.append(float(P[n]))\n",
    "print(y1)"
   ]
  },
  {
   "cell_type": "code",
   "execution_count": 39,
   "metadata": {},
   "outputs": [
    {
     "name": "stdout",
     "output_type": "stream",
     "text": [
      "[0.127181, 2.864277]\n"
     ]
    }
   ],
   "source": [
    "for n in f3.read().split('\\n'):\n",
    "    z.append(n)\n",
    "    \n",
    "for m in range(len(z)-1):\n",
    "    z1.append(z[m].split(','))\n",
    "for p in range(len(z1)):\n",
    "    P = z1[p]\n",
    "    for n in range(len(P)):\n",
    "        z2.append(float(P[n]))\n",
    "print(z2)"
   ]
  },
  {
   "cell_type": "code",
   "execution_count": 40,
   "metadata": {},
   "outputs": [],
   "source": [
    "def func(x,a,b):\n",
    "    y = a*x+b\n",
    "    return y"
   ]
  },
  {
   "cell_type": "code",
   "execution_count": 41,
   "metadata": {},
   "outputs": [
    {
     "data": {
      "image/png": "[encoded data removed]",
      "text/plain": [
       "<Figure size 432x288 with 1 Axes>"
      ]
     },
     "metadata": {
      "needs_background": "light"
     },
     "output_type": "display_data"
    }
   ],
   "source": [
    "i = 0\n",
    "fig, ax = plt.subplots()\n",
    "\n",
    "while i < len(z2):\n",
    "    \n",
    "    x_plot, y_plot = [], []\n",
    "    \n",
    "    a = z2[i]\n",
    "    b = z2[i+1]\n",
    "    \n",
    "    xx = y2[i]\n",
    "    yy = func(xx,a,b)\n",
    "    x_plot.append(xx)\n",
    "    y_plot.append(yy)\n",
    "    \n",
    "    i += 1\n",
    "    \n",
    "    xx = y2[i]\n",
    "    yy = func(xx,a,b)\n",
    "    x_plot.append(xx)\n",
    "    y_plot.append(yy)\n",
    "    \n",
    "    ax.plot(x_plot, y_plot)\n",
    "    \n",
    "    i += 1\n",
    "\n",
    "x_scatter, y_scatter = [], []\n",
    "j = 0\n",
    "\n",
    "while j < len(x2):\n",
    "    \n",
    "    xs = x2[j]\n",
    "    x_scatter.append(xs)\n",
    "    \n",
    "    j += 1\n",
    "    \n",
    "    ys = x2[j]\n",
    "    y_scatter.append(ys)\n",
    "        \n",
    "    ax.scatter(x_scatter,y_scatter)\n",
    "    \n",
    "    j += 1\n",
    "    \n",
    "plt.savefig('dels.pdf')"
   ]
  },
  {
   "cell_type": "code",
   "execution_count": 42,
   "metadata": {},
   "outputs": [],
   "source": [
    "f1.close()\n",
    "f2.close()\n",
    "f3.close()"
   ]
  },
  {
   "cell_type": "code",
   "execution_count": null,
   "metadata": {},
   "outputs": [],
   "source": []
  }
 ],
 "metadata": {
  "kernelspec": {
   "display_name": "Python 3",
   "language": "python",
   "name": "python3"
  },
  "language_info": {
   "codemirror_mode": {
    "name": "ipython",
    "version": 3
   },
   "file_extension": ".py",
   "mimetype": "text/x-python",
   "name": "python",
   "nbconvert_exporter": "python",
   "pygments_lexer": "ipython3",
   "version": "3.6.10"
  }
 },
 "nbformat": 4,
 "nbformat_minor": 2
}
